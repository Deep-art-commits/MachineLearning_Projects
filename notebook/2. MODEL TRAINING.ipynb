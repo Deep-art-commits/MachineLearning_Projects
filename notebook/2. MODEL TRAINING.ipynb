{
 "cells": [
  {
   "cell_type": "markdown",
   "metadata": {},
   "source": [
    "##### Importing Packages "
   ]
  },
  {
   "cell_type": "code",
   "execution_count": 28,
   "metadata": {},
   "outputs": [],
   "source": [
    "import numpy as np \n",
    "import pandas as pd\n",
    "import matplotlib.pyplot as plt\n",
    "import seaborn as sns \n",
    "#  Modelling \n",
    "from sklearn.metrics import mean_absolute_error,mean_squared_error,r2_score\n",
    "from sklearn.neighbors import KNeighborsRegressor\n",
    "from sklearn.tree import DecisionTreeRegressor\n",
    "from sklearn.ensemble import RandomForestRegressor,AdaBoostRegressor\n",
    "from sklearn.svm import SVR\n",
    "from sklearn.linear_model import LinearRegression,Ridge,Lasso\n",
    "from sklearn.model_selection import RandomizedSearchCV\n",
    "from catboost import CatBoostRegressor\n",
    "from xgboost import XGBRFRegressor\n",
    "import warnings"
   ]
  },
  {
   "cell_type": "markdown",
   "metadata": {},
   "source": [
    "##### Reading Data "
   ]
  },
  {
   "cell_type": "code",
   "execution_count": 29,
   "metadata": {},
   "outputs": [
    {
     "data": {
      "text/html": [
       "<div>\n",
       "<style scoped>\n",
       "    .dataframe tbody tr th:only-of-type {\n",
       "        vertical-align: middle;\n",
       "    }\n",
       "\n",
       "    .dataframe tbody tr th {\n",
       "        vertical-align: top;\n",
       "    }\n",
       "\n",
       "    .dataframe thead th {\n",
       "        text-align: right;\n",
       "    }\n",
       "</style>\n",
       "<table border=\"1\" class=\"dataframe\">\n",
       "  <thead>\n",
       "    <tr style=\"text-align: right;\">\n",
       "      <th></th>\n",
       "      <th>gender</th>\n",
       "      <th>race_ethnicity</th>\n",
       "      <th>parental_level_of_education</th>\n",
       "      <th>lunch</th>\n",
       "      <th>test_preparation_course</th>\n",
       "      <th>math_score</th>\n",
       "      <th>reading_score</th>\n",
       "      <th>writing_score</th>\n",
       "    </tr>\n",
       "  </thead>\n",
       "  <tbody>\n",
       "    <tr>\n",
       "      <th>0</th>\n",
       "      <td>female</td>\n",
       "      <td>group B</td>\n",
       "      <td>bachelor's degree</td>\n",
       "      <td>standard</td>\n",
       "      <td>none</td>\n",
       "      <td>72</td>\n",
       "      <td>72</td>\n",
       "      <td>74</td>\n",
       "    </tr>\n",
       "  </tbody>\n",
       "</table>\n",
       "</div>"
      ],
      "text/plain": [
       "   gender race_ethnicity  ... reading_score writing_score\n",
       "0  female        group B  ...            72            74\n",
       "\n",
       "[1 rows x 8 columns]"
      ]
     },
     "execution_count": 29,
     "metadata": {},
     "output_type": "execute_result"
    }
   ],
   "source": [
    "df=pd.read_csv('data/stud.csv')\n",
    "df.head(1)"
   ]
  },
  {
   "cell_type": "markdown",
   "metadata": {},
   "source": [
    "##### Preparing X and Y variables\n",
    "- Selected Maths Score as an independent variable and all the categorical variables will be dependent variables /\n",
    " "
   ]
  },
  {
   "cell_type": "code",
   "execution_count": 30,
   "metadata": {},
   "outputs": [
    {
     "name": "stdout",
     "output_type": "stream",
     "text": [
      "<class 'pandas.core.frame.DataFrame'>\n",
      "RangeIndex: 1000 entries, 0 to 999\n",
      "Data columns (total 8 columns):\n",
      " #   Column                       Non-Null Count  Dtype \n",
      "---  ------                       --------------  ----- \n",
      " 0   gender                       1000 non-null   object\n",
      " 1   race_ethnicity               1000 non-null   object\n",
      " 2   parental_level_of_education  1000 non-null   object\n",
      " 3   lunch                        1000 non-null   object\n",
      " 4   test_preparation_course      1000 non-null   object\n",
      " 5   math_score                   1000 non-null   int64 \n",
      " 6   reading_score                1000 non-null   int64 \n",
      " 7   writing_score                1000 non-null   int64 \n",
      "dtypes: int64(3), object(5)\n",
      "memory usage: 62.6+ KB\n"
     ]
    }
   ],
   "source": [
    "X=df.drop('math_score',axis=1)\n",
    "y=df['math_score']\n",
    "df.info()"
   ]
  },
  {
   "cell_type": "markdown",
   "metadata": {},
   "source": [
    "##### Checking Unique values in catergorical variables "
   ]
  },
  {
   "cell_type": "code",
   "execution_count": 31,
   "metadata": {},
   "outputs": [
    {
     "name": "stdout",
     "output_type": "stream",
     "text": [
      "No of unique values are 2: ['female' 'male']\n",
      "No of unique values are 5: ['group B' 'group C' 'group A' 'group D' 'group E']\n",
      "No of unique values are 6: [\"bachelor's degree\" 'some college' \"master's degree\" \"associate's degree\"\n",
      " 'high school' 'some high school']\n",
      "No of unique values are 2: ['standard' 'free/reduced']\n",
      "No of unique values are 2: ['none' 'completed']\n"
     ]
    }
   ],
   "source": [
    "col=df.columns\n",
    "cat_var=[i for i in col if df[i].dtype=='O']\n",
    "for i in cat_var:\n",
    "    print(f\"No of unique values are {df[i].nunique()}: {df[i].unique()}\")"
   ]
  },
  {
   "cell_type": "code",
   "execution_count": 32,
   "metadata": {},
   "outputs": [],
   "source": [
    "# Creating Columns transformers for categorical variables \n",
    "Categ_v=X.select_dtypes(include=\"object\").columns\n",
    "Num_v=X.select_dtypes(exclude=\"object\").columns\n",
    "from sklearn.preprocessing import OneHotEncoder,StandardScaler\n",
    "from sklearn.compose import ColumnTransformer\n",
    "numeric_transformer=StandardScaler()\n",
    "oh_transformer=OneHotEncoder()\n",
    "preprocessor =ColumnTransformer(\n",
    "    [\n",
    "        (\"OneHotEncoder\",oh_transformer,Categ_v),\n",
    "        (\"StandardScaler\",numeric_transformer,Num_v)\n",
    "    ]\n",
    ")"
   ]
  },
  {
   "cell_type": "code",
   "execution_count": 33,
   "metadata": {},
   "outputs": [],
   "source": [
    "X=preprocessor.fit_transform(X)"
   ]
  },
  {
   "cell_type": "markdown",
   "metadata": {},
   "source": [
    "##### Splitting into Test and Train"
   ]
  },
  {
   "cell_type": "code",
   "execution_count": 34,
   "metadata": {},
   "outputs": [
    {
     "data": {
      "text/plain": [
       "((800, 19), (200, 19))"
      ]
     },
     "execution_count": 34,
     "metadata": {},
     "output_type": "execute_result"
    }
   ],
   "source": [
    "from sklearn.model_selection import train_test_split\n",
    "X_train,X_test,y_train,y_test=train_test_split(X,y,test_size=0.2,random_state=100)\n",
    "X_train.shape,X_test.shape"
   ]
  },
  {
   "cell_type": "markdown",
   "metadata": {},
   "source": [
    "#### Creating a model evaluation function"
   ]
  },
  {
   "cell_type": "code",
   "execution_count": 40,
   "metadata": {},
   "outputs": [],
   "source": [
    "def evaluate(true,predict):\n",
    "    mae=mean_absolute_error(true,predict)\n",
    "    mse=mean_squared_error(true,predict)\n",
    "    rmse=np.sqrt(mse)\n",
    "    r2=r2_score(true,predict)\n",
    "    return mae,mse,rmse,r2\n",
    "\n"
   ]
  },
  {
   "cell_type": "code",
   "execution_count": 94,
   "metadata": {},
   "outputs": [
    {
     "name": "stdout",
     "output_type": "stream",
     "text": [
      "Model performance for training set of model: LinearRegression\n",
      "        Mean Absolute Error    :4.247578125\n",
      "        Mean Squared  Error    :28.4736865234375\n",
      "        Root Mean Squared Error:5.3360740740208525\n",
      "        R2_Score               :0.878085730190312\n",
      "Model performance for Test set of model: LinearRegression\n",
      "        Mean Absolute Error    :4.3265625\n",
      "        Mean Squared  Error    :29.11220703125\n",
      "        Root Mean Squared Error:5.395572910382177\n",
      "        R2_Score               :0.8595160376814472\n",
      "***********************************\n",
      "\n",
      "\n",
      "Model performance for training set of model: Lasso\n",
      "        Mean Absolute Error    :5.143909757249166\n",
      "        Mean Squared  Error    :42.51090943664356\n",
      "        Root Mean Squared Error:6.520039067110224\n",
      "        R2_Score               :0.81798329911906\n",
      "Model performance for Test set of model: Lasso\n",
      "        Mean Absolute Error    :4.947869631765135\n",
      "        Mean Squared  Error    :39.51800031198302\n",
      "        Root Mean Squared Error:6.286334409811732\n",
      "        R2_Score               :0.8093018072874426\n",
      "***********************************\n",
      "\n",
      "\n",
      "Model performance for training set of model: Ridge\n",
      "        Mean Absolute Error    :4.239028035506776\n",
      "        Mean Squared  Error    :28.259201820142174\n",
      "        Root Mean Squared Error:5.315938470311914\n",
      "        R2_Score               :0.8790040779415269\n",
      "Model performance for Test set of model: Ridge\n",
      "        Mean Absolute Error    :4.298465524343276\n",
      "        Mean Squared  Error    :28.994154235904478\n",
      "        Root Mean Squared Error:5.384622014209027\n",
      "        R2_Score               :0.8600857136402338\n",
      "***********************************\n",
      "\n",
      "\n",
      "Model performance for training set of model: KNeighborsRegressor\n",
      "        Mean Absolute Error    :4.6285\n",
      "        Mean Squared  Error    :34.606300000000005\n",
      "        Root Mean Squared Error:5.882711959632224\n",
      "        R2_Score               :0.8518280451025466\n",
      "Model performance for Test set of model: KNeighborsRegressor\n",
      "        Mean Absolute Error    :5.799000000000001\n",
      "        Mean Squared  Error    :53.685\n",
      "        Root Mean Squared Error:7.327004845091888\n",
      "        R2_Score               :0.740937486842691\n",
      "***********************************\n",
      "\n",
      "\n",
      "Model performance for training set of model: DecisionTree\n",
      "        Mean Absolute Error    :0.0325\n",
      "        Mean Squared  Error    :0.1875\n",
      "        Root Mean Squared Error:0.4330127018922193\n",
      "        R2_Score               :0.9991971912182674\n",
      "Model performance for Test set of model: DecisionTree\n",
      "        Mean Absolute Error    :6.325\n",
      "        Mean Squared  Error    :63.155\n",
      "        Root Mean Squared Error:7.94701201710429\n",
      "        R2_Score               :0.6952390235922539\n",
      "***********************************\n",
      "\n",
      "\n",
      "Model performance for training set of model: RandomForest\n",
      "        Mean Absolute Error    :1.8463125\n",
      "        Mean Squared  Error    :5.57213960888889\n",
      "        Root Mean Squared Error:2.360537991409774\n",
      "        R2_Score               :0.976142066074368\n",
      "Model performance for Test set of model: RandomForest\n",
      "        Mean Absolute Error    :4.839113333333334\n",
      "        Mean Squared  Error    :35.941751173333344\n",
      "        Root Mean Squared Error:5.99514396602228\n",
      "        R2_Score               :0.8265593669323201\n",
      "***********************************\n",
      "\n",
      "\n",
      "Model performance for training set of model: XGBRFRegressor\n",
      "        Mean Absolute Error    :3.778132503032684\n",
      "        Mean Squared  Error    :22.381996630169755\n",
      "        Root Mean Squared Error:4.730961491089285\n",
      "        R2_Score               :0.9041681949471493\n",
      "Model performance for Test set of model: XGBRFRegressor\n",
      "        Mean Absolute Error    :4.757168292999268\n",
      "        Mean Squared  Error    :35.582272067484226\n",
      "        Root Mean Squared Error:5.965087766955674\n",
      "        R2_Score               :0.8282940704917653\n",
      "***********************************\n",
      "\n",
      "\n",
      "Model performance for training set of model: AdaBoost\n",
      "        Mean Absolute Error    :4.7267212152847256\n",
      "        Mean Squared  Error    :34.10709845826454\n",
      "        Root Mean Squared Error:5.840128291250505\n",
      "        R2_Score               :0.8539654498041982\n",
      "Model performance for Test set of model: AdaBoost\n",
      "        Mean Absolute Error    :4.858949133910818\n",
      "        Mean Squared  Error    :37.301860710110574\n",
      "        Root Mean Squared Error:6.107524925050292\n",
      "        R2_Score               :0.8199960178633673\n",
      "***********************************\n",
      "\n",
      "\n"
     ]
    }
   ],
   "source": [
    "models={\n",
    "    \"LinearRegression\":LinearRegression(),\n",
    "    \"Lasso\":Lasso(),\n",
    "    \"Ridge\":Ridge(),\n",
    "    \"KNeighborsRegressor\":KNeighborsRegressor(),\n",
    "    \"DecisionTree\":DecisionTreeRegressor(),\n",
    "    \"RandomForest\":RandomForestRegressor(),\n",
    "    \"XGBRFRegressor\":XGBRFRegressor(),\n",
    "    # \"CatBoost\":CatBoostRegressor(),\n",
    "    \"AdaBoost\":AdaBoostRegressor()\n",
    "    \n",
    "}\n",
    "model_lst=[]\n",
    "R2_lst=[]\n",
    "train_metrics={}\n",
    "test_metrics={}\n",
    "\n",
    "for i in range(len(list(models))):\n",
    "    model=list(models.values())[i]\n",
    "    model.fit(X_train,y_train)\n",
    "    # make predictions \n",
    "    y_train_pred=model.predict(X_train)\n",
    "    y_test_pred=model.predict(X_test)\n",
    "    # Evaluating Test and train Datasets \n",
    "    mae_train,mse_train,rmse_train,r2_train=evaluate(y_train,y_train_pred)\n",
    "    mae_test,mse_test,rmse_test,r2_test=evaluate(y_test,y_test_pred)\n",
    "    model_lst.append(list(models.keys())[i])\n",
    "    train_metrics[i]=[{model_lst[i]:[mae_train,mse_train,rmse_train,r2_train]}]\n",
    "    test_metrics[i]= [{model:[mae_test,mse_test,rmse_test,r2_test]}]\n",
    "    R2_lst.append(r2_test)\n",
    "    \n",
    "    print(f\"Model performance for training set of model: {list(models.keys())[i]}\\n\\\n",
    "        Mean Absolute Error    :{mae_train}\\n\\\n",
    "        Mean Squared  Error    :{mse_train}\\n\\\n",
    "        Root Mean Squared Error:{rmse_train}\\n\\\n",
    "        R2_Score               :{r2_train}\")\n",
    "    print(f\"Model performance for Test set of model: {list(models.keys())[i]}\\n\\\n",
    "        Mean Absolute Error    :{mae_test}\\n\\\n",
    "        Mean Squared  Error    :{mse_test}\\n\\\n",
    "        Root Mean Squared Error:{rmse_test}\\n\\\n",
    "        R2_Score               :{r2_test}\")\n",
    "    print(\"*\"*35)\n",
    "    print(\"\\n\")\n",
    "    \n",
    "    \n",
    "    \n",
    "    "
   ]
  },
  {
   "cell_type": "code",
   "execution_count": 86,
   "metadata": {},
   "outputs": [],
   "source": [
    "train_metrics_t=pd.DataFrame(train_metrics,index=['MAE', 'MSE', 'RMSE','Rsq'])\n",
    "test_metrics_t=pd.DataFrame(test_metrics,index=['MAE', 'MSE', 'RMSE','Rsq'])"
   ]
  },
  {
   "cell_type": "code",
   "execution_count": 95,
   "metadata": {},
   "outputs": [
    {
     "data": {
      "text/html": [
       "<div>\n",
       "<style scoped>\n",
       "    .dataframe tbody tr th:only-of-type {\n",
       "        vertical-align: middle;\n",
       "    }\n",
       "\n",
       "    .dataframe tbody tr th {\n",
       "        vertical-align: top;\n",
       "    }\n",
       "\n",
       "    .dataframe thead th {\n",
       "        text-align: right;\n",
       "    }\n",
       "</style>\n",
       "<table border=\"1\" class=\"dataframe\">\n",
       "  <thead>\n",
       "    <tr style=\"text-align: right;\">\n",
       "      <th></th>\n",
       "      <th>Models</th>\n",
       "      <th>R2_Score</th>\n",
       "    </tr>\n",
       "  </thead>\n",
       "  <tbody>\n",
       "    <tr>\n",
       "      <th>2</th>\n",
       "      <td>Ridge</td>\n",
       "      <td>0.860086</td>\n",
       "    </tr>\n",
       "    <tr>\n",
       "      <th>0</th>\n",
       "      <td>LinearRegression</td>\n",
       "      <td>0.859516</td>\n",
       "    </tr>\n",
       "    <tr>\n",
       "      <th>6</th>\n",
       "      <td>XGBRFRegressor</td>\n",
       "      <td>0.828294</td>\n",
       "    </tr>\n",
       "    <tr>\n",
       "      <th>5</th>\n",
       "      <td>RandomForest</td>\n",
       "      <td>0.826559</td>\n",
       "    </tr>\n",
       "    <tr>\n",
       "      <th>7</th>\n",
       "      <td>AdaBoost</td>\n",
       "      <td>0.819996</td>\n",
       "    </tr>\n",
       "    <tr>\n",
       "      <th>1</th>\n",
       "      <td>Lasso</td>\n",
       "      <td>0.809302</td>\n",
       "    </tr>\n",
       "    <tr>\n",
       "      <th>3</th>\n",
       "      <td>KNeighborsRegressor</td>\n",
       "      <td>0.740937</td>\n",
       "    </tr>\n",
       "    <tr>\n",
       "      <th>4</th>\n",
       "      <td>DecisionTree</td>\n",
       "      <td>0.695239</td>\n",
       "    </tr>\n",
       "  </tbody>\n",
       "</table>\n",
       "</div>"
      ],
      "text/plain": [
       "                Models  R2_Score\n",
       "2                Ridge  0.860086\n",
       "0     LinearRegression  0.859516\n",
       "6       XGBRFRegressor  0.828294\n",
       "5         RandomForest  0.826559\n",
       "7             AdaBoost  0.819996\n",
       "1                Lasso  0.809302\n",
       "3  KNeighborsRegressor  0.740937\n",
       "4         DecisionTree  0.695239"
      ]
     },
     "execution_count": 95,
     "metadata": {},
     "output_type": "execute_result"
    }
   ],
   "source": [
    "Test_m=pd.DataFrame({'Models':model_lst,'R2_Score':R2_lst}).sort_values(by='R2_Score',ascending=False)\n",
    "Test_m"
   ]
  },
  {
   "cell_type": "code",
   "execution_count": 98,
   "metadata": {},
   "outputs": [
    {
     "name": "stdout",
     "output_type": "stream",
     "text": [
      "Accuracy of the model is 85.95%\n"
     ]
    }
   ],
   "source": [
    "linmodel=LinearRegression(fit_intercept=True)\n",
    "linmodel.fit(X_train,y_train)\n",
    "y_pred=linmodel.predict(X_test)\n",
    "score=r2_score(y_test,y_pred)*100\n",
    "print(f\"Accuracy of the model is {round(score,2)}%\")"
   ]
  },
  {
   "cell_type": "markdown",
   "metadata": {},
   "source": [
    "Plotting Ytest and ypred"
   ]
  },
  {
   "cell_type": "code",
   "execution_count": 104,
   "metadata": {},
   "outputs": [
    {
     "data": {
      "text/plain": [
       "<Axes: xlabel='math_score'>"
      ]
     },
     "execution_count": 104,
     "metadata": {},
     "output_type": "execute_result"
    },
    {
     "data": {
      "image/png": "[encoded data removed]",
      "text/plain": [
       "<Figure size 1500x300 with 2 Axes>"
      ]
     },
     "metadata": {},
     "output_type": "display_data"
    }
   ],
   "source": [
    "plt.subplots(1,2,figsize=(15,3))\n",
    "plt.subplot(1,2,1)\n",
    "plt.scatter(y_test,y_pred)\n",
    "plt.xlabel('Actual')\n",
    "plt.ylabel('Predicted')\n",
    "plt.subplot(1,2,2)\n",
    "sns.regplot(x=y_test,y=y_pred,color='red',ci=None)"
   ]
  },
  {
   "cell_type": "code",
   "execution_count": 106,
   "metadata": {},
   "outputs": [
    {
     "data": {
      "text/html": [
       "<div>\n",
       "<style scoped>\n",
       "    .dataframe tbody tr th:only-of-type {\n",
       "        vertical-align: middle;\n",
       "    }\n",
       "\n",
       "    .dataframe tbody tr th {\n",
       "        vertical-align: top;\n",
       "    }\n",
       "\n",
       "    .dataframe thead th {\n",
       "        text-align: right;\n",
       "    }\n",
       "</style>\n",
       "<table border=\"1\" class=\"dataframe\">\n",
       "  <thead>\n",
       "    <tr style=\"text-align: right;\">\n",
       "      <th></th>\n",
       "      <th>Actual</th>\n",
       "      <th>Predicted</th>\n",
       "      <th>Residuals</th>\n",
       "    </tr>\n",
       "  </thead>\n",
       "  <tbody>\n",
       "    <tr>\n",
       "      <th>149</th>\n",
       "      <td>100</td>\n",
       "      <td>97.6250</td>\n",
       "      <td>2.3750</td>\n",
       "    </tr>\n",
       "    <tr>\n",
       "      <th>458</th>\n",
       "      <td>100</td>\n",
       "      <td>95.5000</td>\n",
       "      <td>4.5000</td>\n",
       "    </tr>\n",
       "    <tr>\n",
       "      <th>263</th>\n",
       "      <td>99</td>\n",
       "      <td>88.1250</td>\n",
       "      <td>10.8750</td>\n",
       "    </tr>\n",
       "    <tr>\n",
       "      <th>114</th>\n",
       "      <td>99</td>\n",
       "      <td>92.4375</td>\n",
       "      <td>6.5625</td>\n",
       "    </tr>\n",
       "    <tr>\n",
       "      <th>306</th>\n",
       "      <td>99</td>\n",
       "      <td>90.2500</td>\n",
       "      <td>8.7500</td>\n",
       "    </tr>\n",
       "    <tr>\n",
       "      <th>...</th>\n",
       "      <td>...</td>\n",
       "      <td>...</td>\n",
       "      <td>...</td>\n",
       "    </tr>\n",
       "    <tr>\n",
       "      <th>874</th>\n",
       "      <td>43</td>\n",
       "      <td>50.1875</td>\n",
       "      <td>-7.1875</td>\n",
       "    </tr>\n",
       "    <tr>\n",
       "      <th>72</th>\n",
       "      <td>41</td>\n",
       "      <td>38.2500</td>\n",
       "      <td>2.7500</td>\n",
       "    </tr>\n",
       "    <tr>\n",
       "      <th>424</th>\n",
       "      <td>41</td>\n",
       "      <td>40.3750</td>\n",
       "      <td>0.6250</td>\n",
       "    </tr>\n",
       "    <tr>\n",
       "      <th>61</th>\n",
       "      <td>39</td>\n",
       "      <td>38.6875</td>\n",
       "      <td>0.3125</td>\n",
       "    </tr>\n",
       "    <tr>\n",
       "      <th>980</th>\n",
       "      <td>8</td>\n",
       "      <td>15.8125</td>\n",
       "      <td>-7.8125</td>\n",
       "    </tr>\n",
       "  </tbody>\n",
       "</table>\n",
       "<p>200 rows × 3 columns</p>\n",
       "</div>"
      ],
      "text/plain": [
       "     Actual  Predicted  Residuals\n",
       "149     100    97.6250     2.3750\n",
       "458     100    95.5000     4.5000\n",
       "263      99    88.1250    10.8750\n",
       "114      99    92.4375     6.5625\n",
       "306      99    90.2500     8.7500\n",
       "..      ...        ...        ...\n",
       "874      43    50.1875    -7.1875\n",
       "72       41    38.2500     2.7500\n",
       "424      41    40.3750     0.6250\n",
       "61       39    38.6875     0.3125\n",
       "980       8    15.8125    -7.8125\n",
       "\n",
       "[200 rows x 3 columns]"
      ]
     },
     "execution_count": 106,
     "metadata": {},
     "output_type": "execute_result"
    }
   ],
   "source": [
    "p_df=pd.DataFrame({'Actual':y_test,'Predicted':y_pred,'Residuals':y_test-y_pred}).sort_values(by='Actual',ascending=False)\n",
    "p_df"
   ]
  },
  {
   "cell_type": "markdown",
   "metadata": {},
   "source": []
  }
 ],
 "metadata": {
  "kernelspec": {
   "display_name": "Python 3",
   "language": "python",
   "name": "python3"
  },
  "language_info": {
   "codemirror_mode": {
    "name": "ipython",
    "version": 3
   },
   "file_extension": ".py",
   "mimetype": "text/x-python",
   "name": "python",
   "nbconvert_exporter": "python",
   "pygments_lexer": "ipython3",
   "version": "3.8.19"
  }
 },
 "nbformat": 4,
 "nbformat_minor": 2
}
